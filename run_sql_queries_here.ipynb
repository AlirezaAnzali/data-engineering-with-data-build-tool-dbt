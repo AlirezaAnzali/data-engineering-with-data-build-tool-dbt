{
 "cells": [
  {
   "cell_type": "code",
   "execution_count": 1,
   "metadata": {},
   "outputs": [],
   "source": [
    "import duckdb\n",
    "import pandas as pd"
   ]
  },
  {
   "cell_type": "code",
   "execution_count": 6,
   "metadata": {},
   "outputs": [
    {
     "data": {
      "text/html": [
       "<div>\n",
       "<style scoped>\n",
       "    .dataframe tbody tr th:only-of-type {\n",
       "        vertical-align: middle;\n",
       "    }\n",
       "\n",
       "    .dataframe tbody tr th {\n",
       "        vertical-align: top;\n",
       "    }\n",
       "\n",
       "    .dataframe thead th {\n",
       "        text-align: right;\n",
       "    }\n",
       "</style>\n",
       "<table border=\"1\" class=\"dataframe\">\n",
       "  <thead>\n",
       "    <tr style=\"text-align: right;\">\n",
       "      <th></th>\n",
       "      <th>violation_code</th>\n",
       "      <th>definition</th>\n",
       "      <th>is_manhattan_96th_st_below</th>\n",
       "      <th>fee_usd</th>\n",
       "    </tr>\n",
       "  </thead>\n",
       "  <tbody>\n",
       "    <tr>\n",
       "      <th>0</th>\n",
       "      <td>1</td>\n",
       "      <td>FAILURE TO DISPLAY BUS PERMIT</td>\n",
       "      <td>True</td>\n",
       "      <td>515</td>\n",
       "    </tr>\n",
       "    <tr>\n",
       "      <th>1</th>\n",
       "      <td>1</td>\n",
       "      <td>FAILURE TO DISPLAY BUS PERMIT</td>\n",
       "      <td>False</td>\n",
       "      <td>515</td>\n",
       "    </tr>\n",
       "    <tr>\n",
       "      <th>2</th>\n",
       "      <td>2</td>\n",
       "      <td>NO OPERATOR NAM/ADD/PH DISPLAY</td>\n",
       "      <td>True</td>\n",
       "      <td>515</td>\n",
       "    </tr>\n",
       "    <tr>\n",
       "      <th>3</th>\n",
       "      <td>2</td>\n",
       "      <td>NO OPERATOR NAM/ADD/PH DISPLAY</td>\n",
       "      <td>False</td>\n",
       "      <td>515</td>\n",
       "    </tr>\n",
       "    <tr>\n",
       "      <th>4</th>\n",
       "      <td>3</td>\n",
       "      <td>UNAUTHORIZED PASSENGER PICK-UP</td>\n",
       "      <td>False</td>\n",
       "      <td>515</td>\n",
       "    </tr>\n",
       "  </tbody>\n",
       "</table>\n",
       "</div>"
      ],
      "text/plain": [
       "   violation_code                      definition  is_manhattan_96th_st_below  \\\n",
       "0               1   FAILURE TO DISPLAY BUS PERMIT                        True   \n",
       "1               1   FAILURE TO DISPLAY BUS PERMIT                       False   \n",
       "2               2  NO OPERATOR NAM/ADD/PH DISPLAY                        True   \n",
       "3               2  NO OPERATOR NAM/ADD/PH DISPLAY                       False   \n",
       "4               3  UNAUTHORIZED PASSENGER PICK-UP                       False   \n",
       "\n",
       "   fee_usd  \n",
       "0      515  \n",
       "1      515  \n",
       "2      515  \n",
       "3      515  \n",
       "4      515  "
      ]
     },
     "metadata": {},
     "output_type": "display_data"
    }
   ],
   "source": [
    "sql_query = '''\n",
    "SELECT * FROM silver_parking_violation_codes LIMIT 5\n",
    "'''\n",
    "\n",
    "# sql_query = '''\n",
    "# show tables\n",
    "# '''\n",
    "\n",
    "with duckdb.connect('./data/nyc_parking_violations.db') as con:\n",
    "    display(con.sql(sql_query).df())"
   ]
  },
  {
   "cell_type": "code",
   "execution_count": null,
   "metadata": {},
   "outputs": [],
   "source": [
    "# sql_query_import_1 = '''\n",
    "# CREATE OR REPLACE TABLE parking_violation_codes AS\n",
    "# SELECT *\n",
    "# FROM read_csv_auto(\n",
    "#   'data/dof_parking_violation_codes.csv',\n",
    "#   normalize_names=True\n",
    "#   )\n",
    "# '''\n",
    "\n",
    "# sql_query_import_2 = '''\n",
    "# CREATE OR REPLACE TABLE parking_violations_2023 AS\n",
    "# SELECT *\n",
    "# FROM read_csv_auto(\n",
    "#   'data/parking_violations_issued_fiscal_year_2023_sample.csv',\n",
    "#   normalize_names=True\n",
    "#   )\n",
    "# '''\n",
    "\n",
    "# with duckdb.connect('data/nyc_parking_violations.db') as con:\n",
    "#   con.sql(sql_query_import_1)\n",
    "#   con.sql(sql_query_import_2)"
   ]
  }
 ],
 "metadata": {
  "kernelspec": {
   "display_name": "ducktest",
   "language": "python",
   "name": "python3"
  },
  "language_info": {
   "codemirror_mode": {
    "name": "ipython",
    "version": 3
   },
   "file_extension": ".py",
   "mimetype": "text/x-python",
   "name": "python",
   "nbconvert_exporter": "python",
   "pygments_lexer": "ipython3",
   "version": "3.11.13"
  },
  "orig_nbformat": 4
 },
 "nbformat": 4,
 "nbformat_minor": 2
}
