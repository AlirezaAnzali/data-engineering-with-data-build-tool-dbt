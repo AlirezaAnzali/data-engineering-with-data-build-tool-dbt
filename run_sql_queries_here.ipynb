{
 "cells": [
  {
   "cell_type": "code",
   "execution_count": 1,
   "metadata": {},
   "outputs": [],
   "source": [
    "import duckdb\n",
    "import pandas as pd"
   ]
  },
  {
   "cell_type": "code",
   "execution_count": 8,
   "metadata": {},
   "outputs": [
    {
     "data": {
      "text/html": [
       "<div>\n",
       "<style scoped>\n",
       "    .dataframe tbody tr th:only-of-type {\n",
       "        vertical-align: middle;\n",
       "    }\n",
       "\n",
       "    .dataframe tbody tr th {\n",
       "        vertical-align: top;\n",
       "    }\n",
       "\n",
       "    .dataframe thead th {\n",
       "        text-align: right;\n",
       "    }\n",
       "</style>\n",
       "<table border=\"1\" class=\"dataframe\">\n",
       "  <thead>\n",
       "    <tr style=\"text-align: right;\">\n",
       "      <th></th>\n",
       "      <th>registration_state</th>\n",
       "      <th>ticket_count</th>\n",
       "    </tr>\n",
       "  </thead>\n",
       "  <tbody>\n",
       "    <tr>\n",
       "      <th>0</th>\n",
       "      <td>NJ</td>\n",
       "      <td>9258</td>\n",
       "    </tr>\n",
       "    <tr>\n",
       "      <th>1</th>\n",
       "      <td>PA</td>\n",
       "      <td>3514</td>\n",
       "    </tr>\n",
       "    <tr>\n",
       "      <th>2</th>\n",
       "      <td>FL</td>\n",
       "      <td>2414</td>\n",
       "    </tr>\n",
       "    <tr>\n",
       "      <th>3</th>\n",
       "      <td>CT</td>\n",
       "      <td>1787</td>\n",
       "    </tr>\n",
       "    <tr>\n",
       "      <th>4</th>\n",
       "      <td>GA</td>\n",
       "      <td>840</td>\n",
       "    </tr>\n",
       "  </tbody>\n",
       "</table>\n",
       "</div>"
      ],
      "text/plain": [
       "  registration_state  ticket_count\n",
       "0                 NJ          9258\n",
       "1                 PA          3514\n",
       "2                 FL          2414\n",
       "3                 CT          1787\n",
       "4                 GA           840"
      ]
     },
     "metadata": {},
     "output_type": "display_data"
    }
   ],
   "source": [
    "sql_query = '''\n",
    "SELECT * FROM gold_vehicles_metrics LIMIT 5\n",
    "'''\n",
    "\n",
    "# sql_query = '''\n",
    "# show tables\n",
    "# '''\n",
    "\n",
    "with duckdb.connect('./data/nyc_parking_violations.db') as con:\n",
    "    display(con.sql(sql_query).df())"
   ]
  },
  {
   "cell_type": "code",
   "execution_count": null,
   "metadata": {},
   "outputs": [],
   "source": [
    "# sql_query_import_1 = '''\n",
    "# CREATE OR REPLACE TABLE parking_violation_codes AS\n",
    "# SELECT *\n",
    "# FROM read_csv_auto(\n",
    "#   'data/dof_parking_violation_codes.csv',\n",
    "#   normalize_names=True\n",
    "#   )\n",
    "# '''\n",
    "\n",
    "# sql_query_import_2 = '''\n",
    "# CREATE OR REPLACE TABLE parking_violations_2023 AS\n",
    "# SELECT *\n",
    "# FROM read_csv_auto(\n",
    "#   'data/parking_violations_issued_fiscal_year_2023_sample.csv',\n",
    "#   normalize_names=True\n",
    "#   )\n",
    "# '''\n",
    "\n",
    "# with duckdb.connect('data/nyc_parking_violations.db') as con:\n",
    "#   con.sql(sql_query_import_1)\n",
    "#   con.sql(sql_query_import_2)"
   ]
  }
 ],
 "metadata": {
  "kernelspec": {
   "display_name": "ducktest",
   "language": "python",
   "name": "python3"
  },
  "language_info": {
   "codemirror_mode": {
    "name": "ipython",
    "version": 3
   },
   "file_extension": ".py",
   "mimetype": "text/x-python",
   "name": "python",
   "nbconvert_exporter": "python",
   "pygments_lexer": "ipython3",
   "version": "3.11.13"
  },
  "orig_nbformat": 4
 },
 "nbformat": 4,
 "nbformat_minor": 2
}
